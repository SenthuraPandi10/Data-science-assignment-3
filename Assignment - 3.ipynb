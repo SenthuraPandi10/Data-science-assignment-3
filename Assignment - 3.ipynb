{
 "cells": [
  {
   "cell_type": "markdown",
   "id": "fd02d754",
   "metadata": {},
   "source": [
    "1.2 Write a Python program to implement your own myfilter() function which works exactly  like Python's built-in function filter() "
   ]
  },
  {
   "cell_type": "code",
   "execution_count": 6,
   "id": "2f863901",
   "metadata": {},
   "outputs": [
    {
     "name": "stdout",
     "output_type": "stream",
     "text": [
      "enter the number : 100\n",
      "output :  [1, 2, 3, 4, 5, 6, 7, 8, 9, 10, 11, 12, 13, 14, 15, 16, 17, 18, 19, 20, 21, 22, 23, 24, 25, 26, 27, 28, 29, 30, 31, 32, 33, 34, 35, 36, 37, 38, 39, 40, 41, 42, 43, 44, 45, 46, 47, 48, 49, 50, 51, 52, 53, 54, 55, 56, 57, 58, 59, 60, 61, 62, 63, 64, 65, 66, 67, 68, 69, 70, 71, 72, 73, 74, 75, 76, 77, 78, 79, 80, 81, 82, 83, 84, 85, 86, 87, 88, 89, 90, 91, 92, 93, 94, 95, 96, 97, 98, 99, 100]\n",
      "list_even [18, 36, 54, 72, 90]\n",
      "list_odd [9, 27, 45, 63, 81, 99]\n"
     ]
    }
   ],
   "source": [
    "#my function will filter out the even and odd numbers which are mutiples of 9\n",
    "n = int(input('enter the number : '))\n",
    "num_list = list(range(1,n+1))\n",
    "def myfilter(num_list):\n",
    "    list_even = []\n",
    "    list_odd = []\n",
    "    for i in num_list:\n",
    "        if i%9==0:\n",
    "            if i%2==0:\n",
    "                list_even.append(i)\n",
    "            else:\n",
    "                list_odd.append(i)\n",
    "    return list_even,list_odd\n",
    "#final execution\n",
    "output_value = myfilter(num_list)\n",
    "print('output : ',num_list)\n",
    "print('list_even',output_value[0])\n",
    "print('list_odd',output_value[1])"
   ]
  },
  {
   "cell_type": "code",
   "execution_count": 17,
   "id": "6a33526d",
   "metadata": {},
   "outputs": [
    {
     "name": "stdout",
     "output_type": "stream",
     "text": [
      "Enter the number : 100\n",
      "output :  [1, 2, 3, 4, 5, 6, 7, 8, 9, 10, 11, 12, 13, 14, 15, 16, 17, 18, 19, 20, 21, 22, 23, 24, 25, 26, 27, 28, 29, 30, 31, 32, 33, 34, 35, 36, 37, 38, 39, 40, 41, 42, 43, 44, 45, 46, 47, 48, 49, 50, 51, 52, 53, 54, 55, 56, 57, 58, 59, 60, 61, 62, 63, 64, 65, 66, 67, 68, 69, 70, 71, 72, 73, 74, 75, 76, 77, 78, 79, 80, 81, 82, 83, 84, 85, 86, 87, 88, 89, 90, 91, 92, 93, 94, 95, 96, 97, 98, 99, 100]\n",
      "list_even :  [18, 36, 54, 72, 90]\n",
      "list_odd :  [9, 27, 45, 63, 81, 99]\n"
     ]
    }
   ],
   "source": [
    "#The same method can be done using filter()function\n",
    "n = int(input('Enter the number : '))\n",
    "num_list = (list(range(1,n+1)))\n",
    "list_even = list(filter(lambda x : x%2==0,list(filter(lambda x:x%9==0,num_list))))\n",
    "list_odd  = list(filter(lambda x : x%2!=0,list(filter(lambda x : x%9==0,num_list))))\n",
    "#final execution\n",
    "print('output : ',num_list)\n",
    "print('list_even : ',list_even)\n",
    "print('list_odd : ',list_odd)"
   ]
  },
  {
   "cell_type": "markdown",
   "id": "a93e3573",
   "metadata": {},
   "source": [
    "1.1 Write a Python Program to implement your own myreduce() function which works exactly  like Python's built-in function reduce() "
   ]
  },
  {
   "cell_type": "code",
   "execution_count": 25,
   "id": "e98d39bc",
   "metadata": {},
   "outputs": [
    {
     "name": "stdout",
     "output_type": "stream",
     "text": [
      "enter an number : 25\n",
      "output :  [1, 2, 3, 4, 5, 6, 7, 8, 9, 10, 11, 12, 13, 14, 15, 16, 17, 18, 19, 20, 21, 22, 23, 24, 25]\n",
      "sum of elements is : 325\n"
     ]
    }
   ],
   "source": [
    "n = int(input('enter an number : '))\n",
    "def reduce(n):\n",
    "    num_list = list(range(1,n+1))\n",
    "    sum_of_elements = 0\n",
    "    for i in num_list:\n",
    "        sum_of_elements = sum_of_elements + i\n",
    "    return num_list,sum_of_elements\n",
    "#final execution\n",
    "output_value = reduce(n)\n",
    "print('output : ',output_value[0])\n",
    "print('sum of elements is :',output_value[1])"
   ]
  },
  {
   "cell_type": "code",
   "execution_count": 32,
   "id": "b98f417a",
   "metadata": {},
   "outputs": [
    {
     "name": "stdout",
     "output_type": "stream",
     "text": [
      "enter a number : 25\n",
      "output :  [1, 2, 3, 4, 5, 6, 7, 8, 9, 10, 11, 12, 13, 14, 15, 16, 17, 18, 19, 20, 21, 22, 23, 24, 25]\n",
      "sum of elements :  325\n"
     ]
    }
   ],
   "source": [
    "#same method can be done using reduce()function\n",
    "n = int(input('enter a number : '))\n",
    "num_list = list(range(1,n+1))\n",
    "from functools import reduce\n",
    "sum_of_elements = reduce((lambda x,y : x+y),num_list)\n",
    "print('output : ',num_list)\n",
    "print('sum of elements : ',sum_of_elements)"
   ]
  },
  {
   "cell_type": "markdown",
   "id": "77942737",
   "metadata": {},
   "source": [
    "2. Implement List comprehensions to produce the following lists.\n",
    "Write List comprehensions to produce the following Lists\n",
    "['A', 'C', 'A', 'D', 'G', 'I', ’L’, ‘ D’]\n",
    "['x', 'xx', 'xxx', 'xxxx', 'y', 'yy', 'yyy', 'yyyy', 'z', 'zz', 'zzz', 'zzzz']\n",
    "['x', 'y', 'z', 'xx', 'yy', 'zz', 'xxx', 'yyy', 'zzz', 'xxxx', 'yyyy', 'zzzz']\n",
    "[[2], [3], [4], [3], [4], [5], [4], [5], [6]] [[2, 3, 4, 5], [3, 4, 5, 6],\n",
    "[4, 5, 6, 7], [5, 6, 7, 8]]\n",
    "[(1, 1), (2, 1), (3, 1), (1, 2), (2, 2), (3, 2), (1, 3), (2, 3), (3, 3)]"
   ]
  },
  {
   "cell_type": "code",
   "execution_count": 94,
   "id": "0ac1e6b5",
   "metadata": {},
   "outputs": [],
   "source": [
    "word = 'ACADGILD'\n",
    "a = [i for i in word]\n",
    "\n",
    "word_1 = 'xyz'\n",
    "b = [i*n for i in word_1 for n in range(1,5)]\n",
    "\n",
    "word_2 = 'xyz'\n",
    "c = [i*n for n in range(1,5) for i in word_2]\n",
    "\n",
    "number_1 = [2,3,4]\n",
    "d = [[i + n] for i in number_1 for n in range(0,3)]\n",
    "\n",
    "number_2 = [2,3,4,5]\n",
    "e = [[i+n for n in range(0,4)]for i in number_2]\n",
    "\n",
    "number_3 = [1,2,3]\n",
    "f = [(i,y)for y in number_3 for i in number_3]"
   ]
  },
  {
   "cell_type": "code",
   "execution_count": 95,
   "id": "55a92836",
   "metadata": {},
   "outputs": [
    {
     "data": {
      "text/plain": [
       "['A', 'C', 'A', 'D', 'G', 'I', 'L', 'D']"
      ]
     },
     "execution_count": 95,
     "metadata": {},
     "output_type": "execute_result"
    }
   ],
   "source": [
    "a"
   ]
  },
  {
   "cell_type": "code",
   "execution_count": 96,
   "id": "685ef58f",
   "metadata": {},
   "outputs": [
    {
     "data": {
      "text/plain": [
       "['x', 'xx', 'xxx', 'xxxx', 'y', 'yy', 'yyy', 'yyyy', 'z', 'zz', 'zzz', 'zzzz']"
      ]
     },
     "execution_count": 96,
     "metadata": {},
     "output_type": "execute_result"
    }
   ],
   "source": [
    "b"
   ]
  },
  {
   "cell_type": "code",
   "execution_count": 97,
   "id": "51e6f4ad",
   "metadata": {},
   "outputs": [
    {
     "data": {
      "text/plain": [
       "['x', 'y', 'z', 'xx', 'yy', 'zz', 'xxx', 'yyy', 'zzz', 'xxxx', 'yyyy', 'zzzz']"
      ]
     },
     "execution_count": 97,
     "metadata": {},
     "output_type": "execute_result"
    }
   ],
   "source": [
    "c"
   ]
  },
  {
   "cell_type": "code",
   "execution_count": 98,
   "id": "412af894",
   "metadata": {},
   "outputs": [
    {
     "data": {
      "text/plain": [
       "[[2], [3], [4], [3], [4], [5], [4], [5], [6]]"
      ]
     },
     "execution_count": 98,
     "metadata": {},
     "output_type": "execute_result"
    }
   ],
   "source": [
    "d"
   ]
  },
  {
   "cell_type": "code",
   "execution_count": 99,
   "id": "4d5036d0",
   "metadata": {},
   "outputs": [
    {
     "data": {
      "text/plain": [
       "[[2, 3, 4, 5], [3, 4, 5, 6], [4, 5, 6, 7], [5, 6, 7, 8]]"
      ]
     },
     "execution_count": 99,
     "metadata": {},
     "output_type": "execute_result"
    }
   ],
   "source": [
    "e"
   ]
  },
  {
   "cell_type": "code",
   "execution_count": 100,
   "id": "3a1253ad",
   "metadata": {},
   "outputs": [
    {
     "data": {
      "text/plain": [
       "[(1, 1), (2, 1), (3, 1), (1, 2), (2, 2), (3, 2), (1, 3), (2, 3), (3, 3)]"
      ]
     },
     "execution_count": 100,
     "metadata": {},
     "output_type": "execute_result"
    }
   ],
   "source": [
    "f"
   ]
  },
  {
   "cell_type": "code",
   "execution_count": 101,
   "id": "5fa382e7",
   "metadata": {},
   "outputs": [
    {
     "name": "stdout",
     "output_type": "stream",
     "text": [
      "['A', 'C', 'A', 'D', 'G', 'I', 'L', 'D']\n",
      "['x', 'xx', 'xxx', 'xxxx', 'y', 'yy', 'yyy', 'yyyy', 'z', 'zz', 'zzz', 'zzzz']\n",
      "['x', 'y', 'z', 'xx', 'yy', 'zz', 'xxx', 'yyy', 'zzz', 'xxxx', 'yyyy', 'zzzz']\n",
      "[[2], [3], [4], [3], [4], [5], [4], [5], [6]]\n",
      "[[2, 3, 4, 5], [3, 4, 5, 6], [4, 5, 6, 7], [5, 6, 7, 8]]\n",
      "[(1, 1), (2, 1), (3, 1), (1, 2), (2, 2), (3, 2), (1, 3), (2, 3), (3, 3)]\n"
     ]
    }
   ],
   "source": [
    "print(a)\n",
    "print(b)\n",
    "print(c)\n",
    "print(d)\n",
    "print(e)\n",
    "print(f)"
   ]
  }
 ],
 "metadata": {
  "kernelspec": {
   "display_name": "Python 3",
   "language": "python",
   "name": "python3"
  },
  "language_info": {
   "codemirror_mode": {
    "name": "ipython",
    "version": 3
   },
   "file_extension": ".py",
   "mimetype": "text/x-python",
   "name": "python",
   "nbconvert_exporter": "python",
   "pygments_lexer": "ipython3",
   "version": "3.8.8"
  }
 },
 "nbformat": 4,
 "nbformat_minor": 5
}
